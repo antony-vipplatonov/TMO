{
 "cells": [
  {
   "cell_type": "code",
   "execution_count": 3,
   "id": "30478f59-68ac-43e0-aec9-90338965557d",
   "metadata": {
    "ExecuteTime": {
     "end_time": "2024-06-05T11:11:39.324343Z",
     "start_time": "2024-06-05T11:11:39.301143Z"
    }
   },
   "outputs": [],
   "source": [
    "import gmdh\n",
    "import pandas as pd\n",
    "import numpy as np\n",
    "from sklearn.datasets import fetch_california_housing\n",
    "from sklearn.model_selection import train_test_split\n",
    "from sklearn.preprocessing import StandardScaler"
   ]
  },
  {
   "cell_type": "code",
   "execution_count": 2,
   "id": "4e3762e7-328c-46f6-80ef-6dab0faa22fa",
   "metadata": {
    "ExecuteTime": {
     "end_time": "2024-06-05T11:11:39.325732Z",
     "start_time": "2024-06-05T11:11:39.313102Z"
    }
   },
   "outputs": [],
   "source": [
    "# Загрузка данных\n",
    "data = fetch_california_housing()\n",
    "X = pd.DataFrame(data.data, columns=data.feature_names)\n",
    "y = pd.Series(data.target, name='target')"
   ]
  },
  {
   "cell_type": "code",
   "execution_count": 4,
   "id": "6a4085bb-ce7a-4982-b762-252b9e09d082",
   "metadata": {
    "ExecuteTime": {
     "end_time": "2024-06-05T11:11:39.361293Z",
     "start_time": "2024-06-05T11:11:39.332671Z"
    }
   },
   "outputs": [
    {
     "name": "stdout",
     "output_type": "stream",
     "text": [
      "MedInc        0\n",
      "HouseAge      0\n",
      "AveRooms      0\n",
      "AveBedrms     0\n",
      "Population    0\n",
      "AveOccup      0\n",
      "Latitude      0\n",
      "Longitude     0\n",
      "dtype: int64\n"
     ]
    }
   ],
   "source": [
    "# Проверка на наличие пропусков\n",
    "print(X.isnull().sum())"
   ]
  },
  {
   "cell_type": "code",
   "execution_count": 5,
   "id": "1939aaa9-a3f3-4072-83dd-40ac0c7c4266",
   "metadata": {
    "ExecuteTime": {
     "end_time": "2024-06-05T11:11:39.364850Z",
     "start_time": "2024-06-05T11:11:39.342717Z"
    }
   },
   "outputs": [],
   "source": [
    "# Нормализация данных\n",
    "scaler = StandardScaler()\n",
    "X_scaled = scaler.fit_transform(X)"
   ]
  },
  {
   "cell_type": "code",
   "execution_count": 6,
   "id": "3022a48d-de38-49fd-9daa-38886f52b323",
   "metadata": {
    "ExecuteTime": {
     "end_time": "2024-06-05T11:11:39.365388Z",
     "start_time": "2024-06-05T11:11:39.356220Z"
    }
   },
   "outputs": [],
   "source": [
    "# Объединение признаков и целевой переменной в один DataFrame\n",
    "df = pd.DataFrame(data.data, columns=data.feature_names)\n",
    "df['target'] = data.target"
   ]
  },
  {
   "cell_type": "code",
   "execution_count": 7,
   "id": "94797d2d-a81b-41c5-8ecd-07d7c0c18907",
   "metadata": {
    "ExecuteTime": {
     "end_time": "2024-06-05T11:11:39.382310Z",
     "start_time": "2024-06-05T11:11:39.360673Z"
    }
   },
   "outputs": [
    {
     "name": "stdout",
     "output_type": "stream",
     "text": [
      "   MedInc  HouseAge  AveRooms  AveBedrms  Population  AveOccup  Latitude  \\\n",
      "0  8.3252      41.0  6.984127   1.023810       322.0  2.555556     37.88   \n",
      "1  8.3014      21.0  6.238137   0.971880      2401.0  2.109842     37.86   \n",
      "2  7.2574      52.0  8.288136   1.073446       496.0  2.802260     37.85   \n",
      "3  5.6431      52.0  5.817352   1.073059       558.0  2.547945     37.85   \n",
      "4  3.8462      52.0  6.281853   1.081081       565.0  2.181467     37.85   \n",
      "\n",
      "   Longitude  target  \n",
      "0    -122.23   4.526  \n",
      "1    -122.22   3.585  \n",
      "2    -122.24   3.521  \n",
      "3    -122.25   3.413  \n",
      "4    -122.25   3.422  \n"
     ]
    }
   ],
   "source": [
    "# Вывод первых 5 строк объединенного DataFrame\n",
    "print(df.head())"
   ]
  },
  {
   "cell_type": "code",
   "execution_count": 8,
   "id": "f9ee5e3a-4606-4ac3-b606-bc12173d60b0",
   "metadata": {
    "ExecuteTime": {
     "end_time": "2024-06-05T11:11:39.430512Z",
     "start_time": "2024-06-05T11:11:39.372468Z"
    }
   },
   "outputs": [],
   "source": [
    "# Разделение данных на обучающую и тестовую выборки\n",
    "X_train, X_test, y_train, y_test = train_test_split(X_scaled, y, test_size=0.2, random_state=42)"
   ]
  },
  {
   "cell_type": "code",
   "execution_count": null,
   "id": "e9cca21b-04cb-48c6-9b81-31faad8d890f",
   "metadata": {
    "ExecuteTime": {
     "end_time": "2024-06-05T11:12:08.353287Z",
     "start_time": "2024-06-05T11:11:39.385695Z"
    }
   },
   "outputs": [],
   "source": [
    "from sklearn.ensemble import StackingRegressor\n",
    "from sklearn.linear_model import RidgeCV\n",
    "from sklearn.tree import DecisionTreeRegressor\n",
    "from sklearn.svm import SVR\n",
    "from sklearn.linear_model import LinearRegression\n",
    "\n",
    "# Определение базовых моделей\n",
    "estimators = [\n",
    "    ('ridge', RidgeCV()),\n",
    "    ('dt', DecisionTreeRegressor(random_state=42)),\n",
    "    ('svr', SVR())\n",
    "]\n",
    "\n",
    "# Модель стекинга\n",
    "stacking_model = StackingRegressor(\n",
    "    estimators=estimators,\n",
    "    final_estimator=LinearRegression()\n",
    ")\n",
    "\n",
    "# Обучение модели\n",
    "stacking_model.fit(X_train, y_train)"
   ]
  },
  {
   "cell_type": "code",
   "execution_count": null,
   "id": "793aa5b3-d082-4d9a-affc-14f9f3b45033",
   "metadata": {
    "ExecuteTime": {
     "end_time": "2024-06-05T11:12:16.540836Z",
     "start_time": "2024-06-05T11:12:08.312500Z"
    }
   },
   "outputs": [],
   "source": [
    "from sklearn.neural_network import MLPRegressor\n",
    "\n",
    "# Определение модели\n",
    "mlp_model = MLPRegressor(hidden_layer_sizes=(100,), max_iter=500, random_state=42)\n",
    "\n",
    "# Обучение модели\n",
    "mlp_model.fit(X_train, y_train)"
   ]
  },
  {
   "cell_type": "code",
   "execution_count": null,
   "id": "3e9ca31a-010f-4467-bd10-30b190ee0ad1",
   "metadata": {
    "ExecuteTime": {
     "end_time": "2024-06-05T11:12:16.743571Z",
     "start_time": "2024-06-05T11:12:16.528202Z"
    }
   },
   "outputs": [],
   "source": [
    "# Линейная модель (COMBI)\n",
    "combi_model = gmdh.Combi()\n",
    "\n",
    "# Нелинейная модель (MIA)\n",
    "mia_model = gmdh.Mia()\n",
    "\n",
    "# Обучение моделей\n",
    "combi_model.fit(X_train, y_train)\n",
    "mia_model.fit(X_train, y_train)"
   ]
  },
  {
   "cell_type": "code",
   "execution_count": null,
   "id": "2724a8cc-de1d-45ed-92e3-15e9632fbe68",
   "metadata": {
    "ExecuteTime": {
     "end_time": "2024-06-05T11:12:18.529125Z",
     "start_time": "2024-06-05T11:12:16.774029Z"
    }
   },
   "outputs": [],
   "source": [
    "from sklearn.metrics import mean_squared_error\n",
    "\n",
    "# Оценка модели стекинга\n",
    "stacking_pred = stacking_model.predict(X_test)\n",
    "stacking_mse = mean_squared_error(y_test, stacking_pred)\n",
    "\n",
    "# Оценка модели многослойного персептрона\n",
    "mlp_pred = mlp_model.predict(X_test)\n",
    "mlp_mse = mean_squared_error(y_test, mlp_pred)\n",
    "\n",
    "# Оценка линейной модели (COMBI)\n",
    "combi_pred = combi_model.predict(X_test)\n",
    "combi_mse = mean_squared_error(y_test, combi_pred)\n",
    "\n",
    "# Оценка нелинейной модели (MIA)\n",
    "mia_pred = mia_model.predict(X_test)\n",
    "mia_mse = mean_squared_error(y_test, mia_pred)\n",
    "\n",
    "# Вывод результатов\n",
    "print(f'Stacking MSE: {stacking_mse}')\n",
    "print(f'MLP MSE: {mlp_mse}')\n",
    "print(f'COMBI MSE: {combi_mse}')\n",
    "print(f'MIA MSE: {mia_mse}')"
   ]
  },
  {
   "cell_type": "code",
   "execution_count": null,
   "id": "872d3741-9d64-4713-8097-c1b5204b2663",
   "metadata": {
    "ExecuteTime": {
     "end_time": "2024-06-05T11:12:18.627516Z",
     "start_time": "2024-06-05T11:12:18.528139Z"
    }
   },
   "outputs": [],
   "source": [
    "results = {\n",
    "    'Stacking': stacking_mse,\n",
    "    'MLP\\t': mlp_mse,\n",
    "    'COMBI\\t': combi_mse,\n",
    "    'MIA\\t': mia_mse\n",
    "}\n",
    "\n",
    "# Сравнение\n",
    "for model, mse in results.items():\n",
    "    print(f'{model} model MSE: {mse}')"
   ]
  }
 ],
 "metadata": {
  "kernelspec": {
   "display_name": "Python 3 (ipykernel)",
   "language": "python",
   "name": "python3"
  },
  "language_info": {
   "codemirror_mode": {
    "name": "ipython",
    "version": 3
   },
   "file_extension": ".py",
   "mimetype": "text/x-python",
   "name": "python",
   "nbconvert_exporter": "python",
   "pygments_lexer": "ipython3",
   "version": "3.9.1"
  }
 },
 "nbformat": 4,
 "nbformat_minor": 5
}
