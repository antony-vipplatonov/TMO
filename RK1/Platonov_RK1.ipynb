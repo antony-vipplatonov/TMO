{
 "cells": [
  {
   "cell_type": "markdown",
   "id": "702e8f95",
   "metadata": {},
   "source": [
    "Платонов Антон РТ5-61Б РК1 Вариант 17"
   ]
  },
  {
   "cell_type": "markdown",
   "id": "b40b266a",
   "metadata": {},
   "source": [
    "Задача 3 - Набор данных 1\n",
    "\n",
    "Для заданного набора данных произведите масштабирование данных (для одного признака) и преобразование категориальных признаков в количественные двумя способами (label encoding, one hot encoding) для одного признака. Какие методы Вы использовали для решения задачи и почему?\n",
    "Доп требование: для пары произвольных колонок данных построить график \"Jointplot\"."
   ]
  },
  {
   "cell_type": "code",
   "execution_count": 42,
   "id": "398ab0f3",
   "metadata": {},
   "outputs": [],
   "source": [
    "import pandas as pd\n",
    "import numpy as np\n",
    "from sklearn.datasets import load_iris\n",
    "from sklearn.preprocessing import MinMaxScaler, LabelEncoder, OneHotEncoder\n",
    "import matplotlib.pyplot as plt\n",
    "import seaborn as sns"
   ]
  },
  {
   "cell_type": "markdown",
   "id": "cd91bed6",
   "metadata": {},
   "source": [
    "Загрузка и анализ датасета¶"
   ]
  },
  {
   "cell_type": "code",
   "execution_count": 43,
   "id": "4891d160",
   "metadata": {},
   "outputs": [
    {
     "name": "stdout",
     "output_type": "stream",
     "text": [
      ".. _iris_dataset:\n",
      "\n",
      "Iris plants dataset\n",
      "--------------------\n",
      "\n",
      "**Data Set Characteristics:**\n",
      "\n",
      ":Number of Instances: 150 (50 in each of three classes)\n",
      ":Number of Attributes: 4 numeric, predictive attributes and the class\n",
      ":Attribute Information:\n",
      "    - sepal length in cm\n",
      "    - sepal width in cm\n",
      "    - petal length in cm\n",
      "    - petal width in cm\n",
      "    - class:\n",
      "            - Iris-Setosa\n",
      "            - Iris-Versicolour\n",
      "            - Iris-Virginica\n",
      "\n",
      ":Summary Statistics:\n",
      "\n",
      "============== ==== ==== ======= ===== ====================\n",
      "                Min  Max   Mean    SD   Class Correlation\n",
      "============== ==== ==== ======= ===== ====================\n",
      "sepal length:   4.3  7.9   5.84   0.83    0.7826\n",
      "sepal width:    2.0  4.4   3.05   0.43   -0.4194\n",
      "petal length:   1.0  6.9   3.76   1.76    0.9490  (high!)\n",
      "petal width:    0.1  2.5   1.20   0.76    0.9565  (high!)\n",
      "============== ==== ==== ======= ===== ====================\n",
      "\n",
      ":Missing Attribute Values: None\n",
      ":Class Distribution: 33.3% for each of 3 classes.\n",
      ":Creator: R.A. Fisher\n",
      ":Donor: Michael Marshall (MARSHALL%PLU@io.arc.nasa.gov)\n",
      ":Date: July, 1988\n",
      "\n",
      "The famous Iris database, first used by Sir R.A. Fisher. The dataset is taken\n",
      "from Fisher's paper. Note that it's the same as in R, but not as in the UCI\n",
      "Machine Learning Repository, which has two wrong data points.\n",
      "\n",
      "This is perhaps the best known database to be found in the\n",
      "pattern recognition literature.  Fisher's paper is a classic in the field and\n",
      "is referenced frequently to this day.  (See Duda & Hart, for example.)  The\n",
      "data set contains 3 classes of 50 instances each, where each class refers to a\n",
      "type of iris plant.  One class is linearly separable from the other 2; the\n",
      "latter are NOT linearly separable from each other.\n",
      "\n",
      "|details-start|\n",
      "**References**\n",
      "|details-split|\n",
      "\n",
      "- Fisher, R.A. \"The use of multiple measurements in taxonomic problems\"\n",
      "  Annual Eugenics, 7, Part II, 179-188 (1936); also in \"Contributions to\n",
      "  Mathematical Statistics\" (John Wiley, NY, 1950).\n",
      "- Duda, R.O., & Hart, P.E. (1973) Pattern Classification and Scene Analysis.\n",
      "  (Q327.D83) John Wiley & Sons.  ISBN 0-471-22361-1.  See page 218.\n",
      "- Dasarathy, B.V. (1980) \"Nosing Around the Neighborhood: A New System\n",
      "  Structure and Classification Rule for Recognition in Partially Exposed\n",
      "  Environments\".  IEEE Transactions on Pattern Analysis and Machine\n",
      "  Intelligence, Vol. PAMI-2, No. 1, 67-71.\n",
      "- Gates, G.W. (1972) \"The Reduced Nearest Neighbor Rule\".  IEEE Transactions\n",
      "  on Information Theory, May 1972, 431-433.\n",
      "- See also: 1988 MLC Proceedings, 54-64.  Cheeseman et al\"s AUTOCLASS II\n",
      "  conceptual clustering system finds 3 classes in the data.\n",
      "- Many, many more ...\n",
      "\n",
      "|details-end|\n",
      "\n"
     ]
    }
   ],
   "source": [
    "iris = load_iris()\n",
    "print(iris.DESCR)"
   ]
  },
  {
   "cell_type": "code",
   "execution_count": 44,
   "id": "5205f01a",
   "metadata": {},
   "outputs": [
    {
     "data": {
      "text/plain": [
       "array([0, 0, 0, 0, 0, 0, 0, 0, 0, 0, 0, 0, 0, 0, 0, 0, 0, 0, 0, 0, 0, 0,\n",
       "       0, 0, 0, 0, 0, 0, 0, 0, 0, 0, 0, 0, 0, 0, 0, 0, 0, 0, 0, 0, 0, 0,\n",
       "       0, 0, 0, 0, 0, 0, 1, 1, 1, 1, 1, 1, 1, 1, 1, 1, 1, 1, 1, 1, 1, 1,\n",
       "       1, 1, 1, 1, 1, 1, 1, 1, 1, 1, 1, 1, 1, 1, 1, 1, 1, 1, 1, 1, 1, 1,\n",
       "       1, 1, 1, 1, 1, 1, 1, 1, 1, 1, 1, 1, 2, 2, 2, 2, 2, 2, 2, 2, 2, 2,\n",
       "       2, 2, 2, 2, 2, 2, 2, 2, 2, 2, 2, 2, 2, 2, 2, 2, 2, 2, 2, 2, 2, 2,\n",
       "       2, 2, 2, 2, 2, 2, 2, 2, 2, 2, 2, 2, 2, 2, 2, 2, 2, 2])"
      ]
     },
     "execution_count": 44,
     "metadata": {},
     "output_type": "execute_result"
    }
   ],
   "source": [
    "iris.target"
   ]
  },
  {
   "cell_type": "code",
   "execution_count": 45,
   "id": "f31c7e09",
   "metadata": {},
   "outputs": [
    {
     "data": {
      "text/plain": [
       "array(['setosa', 'versicolor', 'virginica'], dtype='<U10')"
      ]
     },
     "execution_count": 45,
     "metadata": {},
     "output_type": "execute_result"
    }
   ],
   "source": [
    "iris.target_names"
   ]
  },
  {
   "cell_type": "markdown",
   "id": "c2b39c2e",
   "metadata": {},
   "source": [
    "Масштабирование данных\n",
    "\n",
    "Для этого задания выбрал признак sepal lenght. Для того, чтобы признак принадлежал отрезку [0;1] воспользовался методом MinMaxScaler, чтобы не получить отрицательные значения длины листка."
   ]
  },
  {
   "cell_type": "code",
   "execution_count": 46,
   "id": "63af45e2",
   "metadata": {},
   "outputs": [
    {
     "name": "stdout",
     "output_type": "stream",
     "text": [
      "[[0.22222222]\n",
      " [0.16666667]\n",
      " [0.11111111]\n",
      " [0.08333333]\n",
      " [0.19444444]\n",
      " [0.30555556]\n",
      " [0.08333333]\n",
      " [0.19444444]\n",
      " [0.02777778]\n",
      " [0.16666667]\n",
      " [0.30555556]\n",
      " [0.13888889]\n",
      " [0.13888889]\n",
      " [0.        ]\n",
      " [0.41666667]\n",
      " [0.38888889]\n",
      " [0.30555556]\n",
      " [0.22222222]\n",
      " [0.38888889]\n",
      " [0.22222222]\n",
      " [0.30555556]\n",
      " [0.22222222]\n",
      " [0.08333333]\n",
      " [0.22222222]\n",
      " [0.13888889]\n",
      " [0.19444444]\n",
      " [0.19444444]\n",
      " [0.25      ]\n",
      " [0.25      ]\n",
      " [0.11111111]\n",
      " [0.13888889]\n",
      " [0.30555556]\n",
      " [0.25      ]\n",
      " [0.33333333]\n",
      " [0.16666667]\n",
      " [0.19444444]\n",
      " [0.33333333]\n",
      " [0.16666667]\n",
      " [0.02777778]\n",
      " [0.22222222]\n",
      " [0.19444444]\n",
      " [0.05555556]\n",
      " [0.02777778]\n",
      " [0.19444444]\n",
      " [0.22222222]\n",
      " [0.13888889]\n",
      " [0.22222222]\n",
      " [0.08333333]\n",
      " [0.27777778]\n",
      " [0.19444444]\n",
      " [0.75      ]\n",
      " [0.58333333]\n",
      " [0.72222222]\n",
      " [0.33333333]\n",
      " [0.61111111]\n",
      " [0.38888889]\n",
      " [0.55555556]\n",
      " [0.16666667]\n",
      " [0.63888889]\n",
      " [0.25      ]\n",
      " [0.19444444]\n",
      " [0.44444444]\n",
      " [0.47222222]\n",
      " [0.5       ]\n",
      " [0.36111111]\n",
      " [0.66666667]\n",
      " [0.36111111]\n",
      " [0.41666667]\n",
      " [0.52777778]\n",
      " [0.36111111]\n",
      " [0.44444444]\n",
      " [0.5       ]\n",
      " [0.55555556]\n",
      " [0.5       ]\n",
      " [0.58333333]\n",
      " [0.63888889]\n",
      " [0.69444444]\n",
      " [0.66666667]\n",
      " [0.47222222]\n",
      " [0.38888889]\n",
      " [0.33333333]\n",
      " [0.33333333]\n",
      " [0.41666667]\n",
      " [0.47222222]\n",
      " [0.30555556]\n",
      " [0.47222222]\n",
      " [0.66666667]\n",
      " [0.55555556]\n",
      " [0.36111111]\n",
      " [0.33333333]\n",
      " [0.33333333]\n",
      " [0.5       ]\n",
      " [0.41666667]\n",
      " [0.19444444]\n",
      " [0.36111111]\n",
      " [0.38888889]\n",
      " [0.38888889]\n",
      " [0.52777778]\n",
      " [0.22222222]\n",
      " [0.38888889]\n",
      " [0.55555556]\n",
      " [0.41666667]\n",
      " [0.77777778]\n",
      " [0.55555556]\n",
      " [0.61111111]\n",
      " [0.91666667]\n",
      " [0.16666667]\n",
      " [0.83333333]\n",
      " [0.66666667]\n",
      " [0.80555556]\n",
      " [0.61111111]\n",
      " [0.58333333]\n",
      " [0.69444444]\n",
      " [0.38888889]\n",
      " [0.41666667]\n",
      " [0.58333333]\n",
      " [0.61111111]\n",
      " [0.94444444]\n",
      " [0.94444444]\n",
      " [0.47222222]\n",
      " [0.72222222]\n",
      " [0.36111111]\n",
      " [0.94444444]\n",
      " [0.55555556]\n",
      " [0.66666667]\n",
      " [0.80555556]\n",
      " [0.52777778]\n",
      " [0.5       ]\n",
      " [0.58333333]\n",
      " [0.80555556]\n",
      " [0.86111111]\n",
      " [1.        ]\n",
      " [0.58333333]\n",
      " [0.55555556]\n",
      " [0.5       ]\n",
      " [0.94444444]\n",
      " [0.55555556]\n",
      " [0.58333333]\n",
      " [0.47222222]\n",
      " [0.72222222]\n",
      " [0.66666667]\n",
      " [0.72222222]\n",
      " [0.41666667]\n",
      " [0.69444444]\n",
      " [0.66666667]\n",
      " [0.66666667]\n",
      " [0.55555556]\n",
      " [0.61111111]\n",
      " [0.52777778]\n",
      " [0.44444444]]\n"
     ]
    }
   ],
   "source": [
    "scaler = MinMaxScaler()\n",
    "\n",
    "sepal_length = iris.data[:, 0].reshape(-1, 1)\n",
    "sepal_length_scaled = scaler.fit_transform(sepal_length)\n",
    "\n",
    "print(sepal_length_scaled)"
   ]
  },
  {
   "cell_type": "markdown",
   "id": "8df64808",
   "metadata": {},
   "source": [
    "Преобразование категориальных признаков в количественные\n",
    "\n",
    "В моем датасете нет категориальных признаков, поэтому я их создам при преоброзовании в dataframe на основе значений целевого признака."
   ]
  },
  {
   "cell_type": "code",
   "execution_count": 47,
   "id": "3318c996",
   "metadata": {},
   "outputs": [
    {
     "name": "stdout",
     "output_type": "stream",
     "text": [
      "{0: 'setosa', 1: 'versicolor', 2: 'virginica'}\n"
     ]
    }
   ],
   "source": [
    "target_dict = dict(zip(np.unique(iris.target), iris.target_names))\n",
    "print(target_dict)"
   ]
  },
  {
   "cell_type": "code",
   "execution_count": 48,
   "id": "b4656f42",
   "metadata": {},
   "outputs": [
    {
     "name": "stdout",
     "output_type": "stream",
     "text": [
      "     sepal length (cm)  sepal width (cm)  petal length (cm)  petal width (cm)  \\\n",
      "0                  5.1               3.5                1.4               0.2   \n",
      "1                  4.9               3.0                1.4               0.2   \n",
      "2                  4.7               3.2                1.3               0.2   \n",
      "3                  4.6               3.1                1.5               0.2   \n",
      "4                  5.0               3.6                1.4               0.2   \n",
      "..                 ...               ...                ...               ...   \n",
      "145                6.7               3.0                5.2               2.3   \n",
      "146                6.3               2.5                5.0               1.9   \n",
      "147                6.5               3.0                5.2               2.0   \n",
      "148                6.2               3.4                5.4               2.3   \n",
      "149                5.9               3.0                5.1               1.8   \n",
      "\n",
      "     target target_name  \n",
      "0         0      setosa  \n",
      "1         0      setosa  \n",
      "2         0      setosa  \n",
      "3         0      setosa  \n",
      "4         0      setosa  \n",
      "..      ...         ...  \n",
      "145       2   virginica  \n",
      "146       2   virginica  \n",
      "147       2   virginica  \n",
      "148       2   virginica  \n",
      "149       2   virginica  \n",
      "\n",
      "[150 rows x 6 columns]\n"
     ]
    }
   ],
   "source": [
    "iris_df = pd.DataFrame(data=iris['data'], columns=iris['feature_names'])\n",
    "iris_jointplot=iris_df\n",
    "iris_df['target'] = iris['target']\n",
    "iris_df['target_name'] = [target_dict[i] for i in iris['target']]\n",
    "\n",
    "print(iris_df)"
   ]
  },
  {
   "cell_type": "markdown",
   "id": "6437bd13",
   "metadata": {},
   "source": [
    "Label Encoding\n",
    "\n",
    "Используется метод LabelEncoder. Присваивает каждому категориальному значению уникальное числовое значение, сохраняя порядок категорий."
   ]
  },
  {
   "cell_type": "code",
   "execution_count": 49,
   "id": "4c1706c0",
   "metadata": {},
   "outputs": [
    {
     "name": "stdout",
     "output_type": "stream",
     "text": [
      "[0 0 0 0 0 0 0 0 0 0 0 0 0 0 0 0 0 0 0 0 0 0 0 0 0 0 0 0 0 0 0 0 0 0 0 0 0\n",
      " 0 0 0 0 0 0 0 0 0 0 0 0 0 1 1 1 1 1 1 1 1 1 1 1 1 1 1 1 1 1 1 1 1 1 1 1 1\n",
      " 1 1 1 1 1 1 1 1 1 1 1 1 1 1 1 1 1 1 1 1 1 1 1 1 1 1 2 2 2 2 2 2 2 2 2 2 2\n",
      " 2 2 2 2 2 2 2 2 2 2 2 2 2 2 2 2 2 2 2 2 2 2 2 2 2 2 2 2 2 2 2 2 2 2 2 2 2\n",
      " 2 2]\n"
     ]
    }
   ],
   "source": [
    "le = LabelEncoder()\n",
    "label_encoder = le.fit_transform(iris_df['target_name'])\n",
    "print(label_encoder)"
   ]
  },
  {
   "cell_type": "markdown",
   "id": "fc107a20",
   "metadata": {},
   "source": [
    "One Hot Encoding\n",
    "\n",
    "Используется метод OneHotEncoder. Преобразует категориальное значение в бинарный вектор, причем его длина равна количеству категорий. Как следствие. увеличивается размерность данных, но позволяет их использовать в более сложных моделях."
   ]
  },
  {
   "cell_type": "code",
   "execution_count": 50,
   "id": "b2be8ba8",
   "metadata": {},
   "outputs": [
    {
     "name": "stdout",
     "output_type": "stream",
     "text": [
      "[[1. 0. 0.]\n",
      " [1. 0. 0.]\n",
      " [1. 0. 0.]\n",
      " [1. 0. 0.]\n",
      " [1. 0. 0.]\n",
      " [1. 0. 0.]\n",
      " [1. 0. 0.]\n",
      " [1. 0. 0.]\n",
      " [1. 0. 0.]\n",
      " [1. 0. 0.]\n",
      " [1. 0. 0.]\n",
      " [1. 0. 0.]\n",
      " [1. 0. 0.]\n",
      " [1. 0. 0.]\n",
      " [1. 0. 0.]\n",
      " [1. 0. 0.]\n",
      " [1. 0. 0.]\n",
      " [1. 0. 0.]\n",
      " [1. 0. 0.]\n",
      " [1. 0. 0.]\n",
      " [1. 0. 0.]\n",
      " [1. 0. 0.]\n",
      " [1. 0. 0.]\n",
      " [1. 0. 0.]\n",
      " [1. 0. 0.]\n",
      " [1. 0. 0.]\n",
      " [1. 0. 0.]\n",
      " [1. 0. 0.]\n",
      " [1. 0. 0.]\n",
      " [1. 0. 0.]\n",
      " [1. 0. 0.]\n",
      " [1. 0. 0.]\n",
      " [1. 0. 0.]\n",
      " [1. 0. 0.]\n",
      " [1. 0. 0.]\n",
      " [1. 0. 0.]\n",
      " [1. 0. 0.]\n",
      " [1. 0. 0.]\n",
      " [1. 0. 0.]\n",
      " [1. 0. 0.]\n",
      " [1. 0. 0.]\n",
      " [1. 0. 0.]\n",
      " [1. 0. 0.]\n",
      " [1. 0. 0.]\n",
      " [1. 0. 0.]\n",
      " [1. 0. 0.]\n",
      " [1. 0. 0.]\n",
      " [1. 0. 0.]\n",
      " [1. 0. 0.]\n",
      " [1. 0. 0.]\n",
      " [0. 1. 0.]\n",
      " [0. 1. 0.]\n",
      " [0. 1. 0.]\n",
      " [0. 1. 0.]\n",
      " [0. 1. 0.]\n",
      " [0. 1. 0.]\n",
      " [0. 1. 0.]\n",
      " [0. 1. 0.]\n",
      " [0. 1. 0.]\n",
      " [0. 1. 0.]\n",
      " [0. 1. 0.]\n",
      " [0. 1. 0.]\n",
      " [0. 1. 0.]\n",
      " [0. 1. 0.]\n",
      " [0. 1. 0.]\n",
      " [0. 1. 0.]\n",
      " [0. 1. 0.]\n",
      " [0. 1. 0.]\n",
      " [0. 1. 0.]\n",
      " [0. 1. 0.]\n",
      " [0. 1. 0.]\n",
      " [0. 1. 0.]\n",
      " [0. 1. 0.]\n",
      " [0. 1. 0.]\n",
      " [0. 1. 0.]\n",
      " [0. 1. 0.]\n",
      " [0. 1. 0.]\n",
      " [0. 1. 0.]\n",
      " [0. 1. 0.]\n",
      " [0. 1. 0.]\n",
      " [0. 1. 0.]\n",
      " [0. 1. 0.]\n",
      " [0. 1. 0.]\n",
      " [0. 1. 0.]\n",
      " [0. 1. 0.]\n",
      " [0. 1. 0.]\n",
      " [0. 1. 0.]\n",
      " [0. 1. 0.]\n",
      " [0. 1. 0.]\n",
      " [0. 1. 0.]\n",
      " [0. 1. 0.]\n",
      " [0. 1. 0.]\n",
      " [0. 1. 0.]\n",
      " [0. 1. 0.]\n",
      " [0. 1. 0.]\n",
      " [0. 1. 0.]\n",
      " [0. 1. 0.]\n",
      " [0. 1. 0.]\n",
      " [0. 1. 0.]\n",
      " [0. 1. 0.]\n",
      " [0. 0. 1.]\n",
      " [0. 0. 1.]\n",
      " [0. 0. 1.]\n",
      " [0. 0. 1.]\n",
      " [0. 0. 1.]\n",
      " [0. 0. 1.]\n",
      " [0. 0. 1.]\n",
      " [0. 0. 1.]\n",
      " [0. 0. 1.]\n",
      " [0. 0. 1.]\n",
      " [0. 0. 1.]\n",
      " [0. 0. 1.]\n",
      " [0. 0. 1.]\n",
      " [0. 0. 1.]\n",
      " [0. 0. 1.]\n",
      " [0. 0. 1.]\n",
      " [0. 0. 1.]\n",
      " [0. 0. 1.]\n",
      " [0. 0. 1.]\n",
      " [0. 0. 1.]\n",
      " [0. 0. 1.]\n",
      " [0. 0. 1.]\n",
      " [0. 0. 1.]\n",
      " [0. 0. 1.]\n",
      " [0. 0. 1.]\n",
      " [0. 0. 1.]\n",
      " [0. 0. 1.]\n",
      " [0. 0. 1.]\n",
      " [0. 0. 1.]\n",
      " [0. 0. 1.]\n",
      " [0. 0. 1.]\n",
      " [0. 0. 1.]\n",
      " [0. 0. 1.]\n",
      " [0. 0. 1.]\n",
      " [0. 0. 1.]\n",
      " [0. 0. 1.]\n",
      " [0. 0. 1.]\n",
      " [0. 0. 1.]\n",
      " [0. 0. 1.]\n",
      " [0. 0. 1.]\n",
      " [0. 0. 1.]\n",
      " [0. 0. 1.]\n",
      " [0. 0. 1.]\n",
      " [0. 0. 1.]\n",
      " [0. 0. 1.]\n",
      " [0. 0. 1.]\n",
      " [0. 0. 1.]\n",
      " [0. 0. 1.]\n",
      " [0. 0. 1.]\n",
      " [0. 0. 1.]]\n"
     ]
    }
   ],
   "source": [
    "ohe = OneHotEncoder(sparse_output=False)\n",
    "one_hot_encoder = ohe.fit_transform(iris_df[['target_name']])\n",
    "print(one_hot_encoder)"
   ]
  },
  {
   "cell_type": "markdown",
   "id": "bdf5c669",
   "metadata": {},
   "source": [
    "График \"Jointplot\" для 'sepal length (cm)' и 'sepal width (cm)'"
   ]
  },
  {
   "cell_type": "code",
   "execution_count": 51,
   "id": "b6252c98",
   "metadata": {},
   "outputs": [
    {
     "data": {
      "text/plain": [
       "<seaborn.axisgrid.JointGrid at 0x193a66e0790>"
      ]
     },
     "execution_count": 51,
     "metadata": {},
     "output_type": "execute_result"
    },
    {
     "data": {
      "image/png": "[encoded data removed]",
      "text/plain": [
       "<Figure size 600x600 with 3 Axes>"
      ]
     },
     "metadata": {},
     "output_type": "display_data"
    }
   ],
   "source": [
    "sns.jointplot(x='sepal length (cm)', y='sepal width (cm)', data=iris_jointplot)"
   ]
  }
 ],
 "metadata": {
  "kernelspec": {
   "display_name": "Python 3 (ipykernel)",
   "language": "python",
   "name": "python3"
  },
  "language_info": {
   "codemirror_mode": {
    "name": "ipython",
    "version": 3
   },
   "file_extension": ".py",
   "mimetype": "text/x-python",
   "name": "python",
   "nbconvert_exporter": "python",
   "pygments_lexer": "ipython3",
   "version": "3.9.1"
  }
 },
 "nbformat": 4,
 "nbformat_minor": 5
}
